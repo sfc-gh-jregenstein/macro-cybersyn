{
 "metadata": {
  "kernelspec": {
   "display_name": "Streamlit Notebook",
   "name": "streamlit"
  }
 },
 "nbformat_minor": 5,
 "nbformat": 4,
 "cells": [
  {
   "cell_type": "code",
   "id": "3775908f-ca36-4846-8f38-5adca39217f2",
   "metadata": {
    "language": "python",
    "name": "Setup",
    "collapsed": false
   },
   "source": "# Import python packages\nimport streamlit as st\nimport pandas as pd\nimport datetime as dt\nimport numpy as np\nimport altair as alt # 4.1.0\n\n# Snowpark\nimport snowflake.snowpark as snp\n\n# from snowflake.snowpark import functions as F\nfrom snowflake.snowpark.functions import udf, col, lag, lit, trunc, to_date\nfrom snowflake.snowpark.types import *\n\n# We can also use Snowpark for our analyses!\nfrom snowflake.snowpark.context import get_active_session\nsession = get_active_session()\n",
   "execution_count": null,
   "outputs": []
  },
  {
   "cell_type": "code",
   "id": "9abdfb4e-d237-4ff7-9f0a-bd1dfaec755f",
   "metadata": {
    "language": "sql",
    "name": "cell2",
    "collapsed": false
   },
   "outputs": [],
   "source": "SELECT VARIABLE, DATE, VALUE\nFROM cybersyn_financial__economic_essentials.cybersyn.FINANCIAL_FRED_TIMESERIES\nLIMIT 10;",
   "execution_count": null
  },
  {
   "cell_type": "code",
   "id": "8d50cbf4-0c8d-4950-86cb-114990437ac9",
   "metadata": {
    "language": "sql",
    "name": "Create_Crosswalked_Table",
    "collapsed": false
   },
   "source": "\nCREATE OR REPLACE TABLE CYBERSYN_FRED_CROSSWALKED AS\nSELECT B.SERIES_ID, A.VARIABLE, A.DATE, A.VALUE\nFROM cybersyn_financial__economic_essentials.cybersyn.FINANCIAL_FRED_TIMESERIES A \nLEFT JOIN cybersyn_financial__economic_essentials.cybersyn.FINANCIAL_FRED_VARIABLE_SERIES_ID_CROSSWALK B\nON a.VARIABLE = b.VARIABLE\nORDER by DATE;\n",
   "execution_count": null,
   "outputs": []
  },
  {
   "cell_type": "code",
   "id": "d8993a1b-123a-463d-9259-f19f976f8dc1",
   "metadata": {
    "language": "sql",
    "name": "cell4",
    "collapsed": false
   },
   "outputs": [],
   "source": "SELECT *\nFROM CYBERSYN_FRED_CROSSWALKED\nWHERE SERIES_ID ilike '%USREC%';",
   "execution_count": null
  },
  {
   "cell_type": "code",
   "id": "e4240839-a1f2-42dd-91af-088f607ddde1",
   "metadata": {
    "language": "python",
    "name": "cell6",
    "collapsed": false
   },
   "outputs": [],
   "source": "session.table(\"CYBERSYN_FRED_CROSSWALKED\")\n",
   "execution_count": null
  },
  {
   "cell_type": "code",
   "id": "e14bd66f-1819-4a55-b6dd-948df75fb45b",
   "metadata": {
    "language": "python",
    "name": "Create_Import_Function",
    "collapsed": false
   },
   "outputs": [],
   "source": "def macro_df(*fred_symbols):\n\n        CYBERSYN_FRED_CROSSWALKED = session.table(\"CYBERSYN_FRED_CROSSWALKED\")\n    \n        try:\n            fred_symbols[0].split()\n        except AttributeError:  # List objects have no split() method.\n            fred_symbols = fred_symbols[0]\n        # filter to just CPI and =\n        final_data = (\n            CYBERSYN_FRED_CROSSWALKED\n            .filter(CYBERSYN_FRED_CROSSWALKED['SERIES_ID'].in_(fred_symbols))\n            .sort(col(\"DATE\"))\n            .to_pandas()\n            .reset_index()\n        )\n\n        return final_data",
   "execution_count": null
  },
  {
   "cell_type": "code",
   "id": "c695373e-ac74-4b62-a1f1-08206cbd5c81",
   "metadata": {
    "language": "python",
    "name": "Import_CPI_Data",
    "collapsed": false
   },
   "source": "inflation_codes = [\"CPIAUCSL\", \"CPILFESL\"]\n\ncpi_core_data = macro_df([\"CPIAUCSL\", \"CPILFESL\"])",
   "execution_count": null,
   "outputs": []
  },
  {
   "cell_type": "code",
   "id": "b96e62ee-f68b-464d-a8e4-a77ed61454a3",
   "metadata": {
    "language": "python",
    "name": "cell7",
    "collapsed": false
   },
   "outputs": [],
   "source": "cpi_core_data.groupby('SERIES_ID').tail(3)",
   "execution_count": null
  },
  {
   "cell_type": "code",
   "id": "be63d299-3218-4f55-9c2b-1b3966a6e594",
   "metadata": {
    "language": "python",
    "name": "Visual_Raw_CPI",
    "collapsed": false
   },
   "outputs": [],
   "source": "chart = (\n  alt.Chart(cpi_core_data)\n  .mark_line()\n.encode(x=\"DATE:T\", y=\"VALUE:Q\", color = \"SERIES_ID\")\n)\n\nst.altair_chart(chart, use_container_width=True, theme=None)",
   "execution_count": null
  },
  {
   "cell_type": "code",
   "id": "a45674d6-d76e-446c-b7c6-889cbb3a619f",
   "metadata": {
    "language": "python",
    "name": "cell9",
    "collapsed": false
   },
   "outputs": [],
   "source": "cpi_core_data_yoy = (\n    cpi_core_data\n    .assign(yoy_change = lambda df: df.groupby(\"SERIES_ID\")['VALUE'].pct_change(12))\n)",
   "execution_count": null
  },
  {
   "cell_type": "code",
   "id": "e064096e-390e-45a5-b0b1-d6cad155f118",
   "metadata": {
    "language": "python",
    "name": "cell10",
    "collapsed": false
   },
   "outputs": [],
   "source": "cpi_core_data_yoy.groupby(\"SERIES_ID\").tail(2)",
   "execution_count": null
  },
  {
   "cell_type": "code",
   "id": "19d58862-b8b6-4b09-9831-cca0b34ab223",
   "metadata": {
    "language": "python",
    "name": "Visualize_YoY_CPI",
    "collapsed": false
   },
   "outputs": [],
   "source": "(\n    alt.Chart(cpi_core_data_yoy,\n        title=alt.Title('CPI v. Core CPI Annual Rates of Inflation',\n            fontSize=18,\n            subtitle='source: FRED/Cybersyn'))\n       .mark_line()\n       .encode(\n            alt.X('DATE:T').title(None),\n            alt.Y('yoy_change:Q').title(None)\n                .axis(format='%'),\n            alt.Color('SERIES_ID:N').title(None)\n                .scale(domain=['CPIAUCSL','CPILFESL'],\n                       range=['seagreen', 'darkblue'])\n        )\n       .properties(width=640, height=480)\n   \n    + alt.Chart()\n        .mark_rule(strokeDash=[5,3])\n        .encode(y=alt.datum(0))\n)",
   "execution_count": null
  },
  {
   "cell_type": "code",
   "id": "b38b8687-bc62-4498-bcdf-e3f0b4badae1",
   "metadata": {
    "language": "python",
    "name": "cell1",
    "collapsed": false
   },
   "outputs": [],
   "source": "unemployment_codes = [\"UNRATE\"]\n\nunemployment_data = macro_df(unemployment_codes)\n\nunemployment_data.head(5)",
   "execution_count": null
  },
  {
   "cell_type": "code",
   "id": "bf2dfeee-7512-453a-be5d-8a95ed7d3f7f",
   "metadata": {
    "language": "python",
    "name": "cell3",
    "collapsed": false
   },
   "outputs": [],
   "source": "Unemploy = (\n    unemployment_data\n    .rename(columns={'VALUE': 'UNRATE'})\n    .drop(['VARIABLE', 'SERIES_ID'], axis = 1)\n)\n\nUnemploy.tail(5)\nUnemploy['DATE']  = pd.to_datetime(Unemploy['DATE'])\nUnemploy.dtypes",
   "execution_count": null
  },
  {
   "cell_type": "code",
   "id": "39e24673-3c4e-44a0-978d-da41733709af",
   "metadata": {
    "language": "python",
    "name": "cell5",
    "collapsed": false
   },
   "outputs": [],
   "source": "Sahm = Unemploy.assign(\n    UnRate_3m = lambda df: df['UNRATE'].rolling(window=3).mean(),\n    UnRate_3m_min = lambda df: df['UnRate_3m'].rolling(window=12).min(),\n    Sahm_diff = lambda df: df['UnRate_3m'] - df['UnRate_3m_min']\n)\n\nSahm.tail(3)",
   "execution_count": null
  },
  {
   "cell_type": "code",
   "id": "651710ea-e165-46e6-bd8f-282b36bfeb2a",
   "metadata": {
    "language": "python",
    "name": "cell8",
    "collapsed": false
   },
   "outputs": [],
   "source": "(\nalt.Chart(Sahm.query('DATE > \"2000-01-01\"'),\n    title = alt.Title('Sahm Rule Recession Indicator',\n        fontSize=18,\n        subtitle='source: FRED'))\n    .mark_line()\n    .encode(\n        alt.X('DATE:T').title(None),\n        alt.Y('Sahm_diff:Q').title(None)\n            .axis(format='%')\n    )\n    .properties(width=640, height=480)\n+\n    alt.Chart().mark_rule(color='red', strokeDash=[5,3]).encode(y=alt.datum(0.05))\n\n)",
   "execution_count": null
  },
  {
   "cell_type": "code",
   "id": "106921be-2855-4fe7-9fcc-64bbe3e604ad",
   "metadata": {
    "language": "python",
    "name": "cell11",
    "collapsed": false
   },
   "outputs": [],
   "source": "Rec_dt = macro_df(['USREC'])\n\nRec_dt.tail(5)",
   "execution_count": null
  },
  {
   "cell_type": "code",
   "id": "5f39d914-b094-426f-8fb2-5c864b21c147",
   "metadata": {
    "language": "python",
    "name": "cell12"
   },
   "outputs": [],
   "source": "Rec_DF = pd.DataFrame(\n    {\n      'start_dt': Rec_dt.query('(USREC==1) & (USREC.shift()==0)')\n                        .reset_index()\n                        ['DATE'],\n      'end_dt': Rec_dt.query('(USREC==0) & (USREC.shift()==1)')\n                      .reset_index()\n                      ['DATE']\n    } )\n\nrecession_shade = (\n  alt.Chart( Rec_DF )\n     .mark_rect(opacity = 0.25, clip=True)\n     .encode(\n        x = 'start_dt:T',\n        x2 = 'end_dt:T'\n     )\n)",
   "execution_count": null
  }
 ]
}